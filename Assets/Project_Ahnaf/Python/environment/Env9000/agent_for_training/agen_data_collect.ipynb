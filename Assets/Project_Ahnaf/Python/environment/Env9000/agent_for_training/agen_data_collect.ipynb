{
 "cells": [
  {
   "cell_type": "code",
   "execution_count": 1,
   "metadata": {},
   "outputs": [],
   "source": [
    "from peaceful_pie.unity_comms import UnityComms\n",
    "from peaceful_pie.unity_comms import UnityComms\n",
    "from peaceful_pie import ray_results_helper\n",
    "import pandas as pd\n",
    "import matplotlib.pyplot as plt"
   ]
  },
  {
   "cell_type": "code",
   "execution_count": 2,
   "metadata": {},
   "outputs": [],
   "source": [
    "def unity_comms(port: int):\n",
    "    unity_comms = UnityComms(port)\n",
    "    return unity_comms\n"
   ]
  },
  {
   "cell_type": "code",
   "execution_count": 3,
   "metadata": {},
   "outputs": [],
   "source": [
    "port = 9000  # Replace with your desired port number\n",
    "unity_comms_instance = unity_comms(port)\n",
    "unity_comms_instance \n",
    "unity_comms = unity_comms_instance"
   ]
  },
  {
   "cell_type": "code",
   "execution_count": null,
   "metadata": {},
   "outputs": [],
   "source": [
    "import pandas as pd\n",
    "\n",
    "positions = []  # List to store the positions\n",
    "counter = 0  # Counter for the same dictionary\n",
    "\n",
    "while counter < 10:\n",
    "    # Get the position dictionary\n",
    "    position_dict = unity_comms.GetPosition_Plane_9001()\n",
    "\n",
    "    # Append the dictionary to the list\n",
    "    positions.append(position_dict)\n",
    "\n",
    "    # Check if the current dictionary is the same as the previous one\n",
    "    if positions.count(position_dict) == 10:\n",
    "        break\n",
    "\n",
    "# Convert the list of positions to a pandas DataFrame\n",
    "df = pd.DataFrame(positions)\n"
   ]
  }
 ],
 "metadata": {
  "kernelspec": {
   "display_name": "tf",
   "language": "python",
   "name": "python3"
  },
  "language_info": {
   "codemirror_mode": {
    "name": "ipython",
    "version": 3
   },
   "file_extension": ".py",
   "mimetype": "text/x-python",
   "name": "python",
   "nbconvert_exporter": "python",
   "pygments_lexer": "ipython3",
   "version": "3.8.16"
  },
  "orig_nbformat": 4
 },
 "nbformat": 4,
 "nbformat_minor": 2
}
